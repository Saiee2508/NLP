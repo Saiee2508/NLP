{
  "nbformat": 4,
  "nbformat_minor": 0,
  "metadata": {
    "colab": {
      "provenance": [],
      "authorship_tag": "ABX9TyNK+JZIs2R9Xw/ePqzu2QET",
      "include_colab_link": true
    },
    "kernelspec": {
      "name": "python3",
      "display_name": "Python 3"
    },
    "language_info": {
      "name": "python"
    }
  },
  "cells": [
    {
      "cell_type": "markdown",
      "metadata": {
        "id": "view-in-github",
        "colab_type": "text"
      },
      "source": [
        "<a href=\"https://colab.research.google.com/github/Saiee2508/NLP/blob/main/NLP_Assignment7.ipynb\" target=\"_parent\"><img src=\"https://colab.research.google.com/assets/colab-badge.svg\" alt=\"Open In Colab\"/></a>"
      ]
    },
    {
      "cell_type": "code",
      "execution_count": 3,
      "metadata": {
        "colab": {
          "base_uri": "https://localhost:8080/"
        },
        "id": "yMdqGEzK1QVG",
        "outputId": "03d1e26b-e364-482a-bc8b-1726a837e6ed"
      },
      "outputs": [
        {
          "output_type": "stream",
          "name": "stderr",
          "text": [
            "[nltk_data] Downloading package punkt_tab to /root/nltk_data...\n",
            "[nltk_data]   Package punkt_tab is already up-to-date!\n"
          ]
        },
        {
          "output_type": "execute_result",
          "data": {
            "text/plain": [
              "True"
            ]
          },
          "metadata": {},
          "execution_count": 3
        }
      ],
      "source": [
        "import nltk\n",
        "nltk.download('punkt_tab')"
      ]
    },
    {
      "cell_type": "code",
      "source": [
        "import re\n",
        "import nltk\n",
        "from collections import defaultdict, Counter\n",
        "from nltk.tokenize import word_tokenize\n",
        "\n",
        "# Ensure the necessary NLTK tokenizer is downloaded\n",
        "nltk.download('punkt')\n",
        "\n",
        "class NGramModel:\n",
        "    def __init__(self, n=3):\n",
        "        self.n = n\n",
        "        self.ngram_counts = defaultdict(Counter)\n",
        "\n",
        "    def train(self, text):\n",
        "        tokens = word_tokenize(text.lower())  # Improved tokenization\n",
        "        for i in range(len(tokens) - self.n + 1):\n",
        "            ngram = tuple(tokens[i:i + self.n - 1])\n",
        "            next_word = tokens[i + self.n - 1]\n",
        "            self.ngram_counts[ngram][next_word] += 1\n",
        "\n",
        "    def predict(self, prefix, top_k=3):\n",
        "        tokens = word_tokenize(prefix.lower())\n",
        "        ngram = tuple(tokens[-self.n + 1:]) if len(tokens) >= self.n - 1 else tuple(tokens)\n",
        "\n",
        "        if ngram in self.ngram_counts:\n",
        "            return [word for word, _ in self.ngram_counts[ngram].most_common(top_k)]\n",
        "        return []\n",
        "\n",
        "# Example usage:\n",
        "model = NGramModel(n=3)\n",
        "text = \"This is a sample text. This text is used to train the model. The model is trained on this text.\"\n",
        "model.train(text)\n",
        "\n",
        "# Test predictions\n",
        "for prefix in [\"This\", \"The model\", \"is\"]:\n",
        "    print(f\"Predictions for '{prefix}': {model.predict(prefix)}\")"
      ],
      "metadata": {
        "colab": {
          "base_uri": "https://localhost:8080/"
        },
        "id": "nfbA4p_e1XOF",
        "outputId": "28087d31-c8cd-4f85-de92-450be2d9b2fd"
      },
      "execution_count": 4,
      "outputs": [
        {
          "output_type": "stream",
          "name": "stdout",
          "text": [
            "Predictions for 'This': []\n",
            "Predictions for 'The model': ['.', 'is']\n",
            "Predictions for 'is': []\n"
          ]
        },
        {
          "output_type": "stream",
          "name": "stderr",
          "text": [
            "[nltk_data] Downloading package punkt to /root/nltk_data...\n",
            "[nltk_data]   Package punkt is already up-to-date!\n"
          ]
        }
      ]
    }
  ]
}